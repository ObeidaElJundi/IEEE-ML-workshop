{
 "cells": [
  {
   "cell_type": "markdown",
   "metadata": {},
   "source": [
    "## What is Jupyter notebook\n",
    "> The Jupyter Notebook is an open-source web application that allows you to create and share documents that contain live code, equations, visualizations and narrative text. Uses include: data cleaning and transformation, numerical simulation, statistical modeling, data visualization, **machine learning**, and much more. <br> \"http://jupyter.org/\"\n",
    "\n",
    "<img src=\"images/jupyter_notebook.PNG\" alt=\"jupyter_notebook\" title=\"jupyter_notebook\" height=\"420\" width=\"720\"/>\n",
    "\n",
    "## Who uses it?\n",
    "- Google\n",
    "- Microsoft\n",
    "- IBM\n",
    "- Soundcloud\n",
    "- NASA\n",
    "\n",
    "<img src=\"images/jupyter_on_github.png\" alt=\"jupyter_notebook\" title=\"jupyter_notebook\" height=\"420\" width=\"220\"/>"
   ]
  },
  {
   "cell_type": "markdown",
   "metadata": {},
   "source": [
    "## Some Features:\n",
    "### 1. partual execution (cells)"
   ]
  },
  {
   "cell_type": "code",
   "execution_count": 4,
   "metadata": {
    "collapsed": true
   },
   "outputs": [],
   "source": [
    "import time\n",
    "def get_data():\n",
    "    time.sleep(10)\n",
    "    return 'hello'\n",
    "\n",
    "data = get_data()\n",
    "\n"
   ]
  },
  {
   "cell_type": "code",
   "execution_count": 5,
   "metadata": {},
   "outputs": [
    {
     "name": "stdout",
     "output_type": "stream",
     "text": [
      "hello\n"
     ]
    }
   ],
   "source": [
    "print(data)\n",
    "# some code here........."
   ]
  },
  {
   "cell_type": "code",
   "execution_count": null,
   "metadata": {
    "collapsed": true
   },
   "outputs": [],
   "source": []
  },
  {
   "cell_type": "markdown",
   "metadata": {},
   "source": [
    "### 2. Code VS Markdown\n",
    "__[Click here for the full list](https://medium.com/ibm-data-science-experience/markdown-for-jupyter-notebooks-cheatsheet-386c05aeebed) __"
   ]
  },
  {
   "cell_type": "markdown",
   "metadata": {},
   "source": [
    "### 3. Timing"
   ]
  },
  {
   "cell_type": "code",
   "execution_count": 6,
   "metadata": {},
   "outputs": [
    {
     "name": "stdout",
     "output_type": "stream",
     "text": [
      "Wall time: 1.01 s\n"
     ]
    }
   ],
   "source": [
    "%%time\n",
    "import time\n",
    "for i in range(10):\n",
    "    time.sleep(0.1)"
   ]
  },
  {
   "cell_type": "markdown",
   "metadata": {},
   "source": [
    "### 4. Multiple cursors"
   ]
  },
  {
   "cell_type": "code",
   "execution_count": null,
   "metadata": {
    "collapsed": true
   },
   "outputs": [],
   "source": [
    "lst = ['car',\n",
    "      'bus',\n",
    "      'train',\n",
    "      'bye']"
   ]
  },
  {
   "cell_type": "markdown",
   "metadata": {},
   "source": [
    "### 5. Shortcuts and Documentations\n",
    "Click on the keyboard icon in the toolbar the right to see Shortcuts\n",
    "Some important Shortcuts:\n",
    "- Tab: to autocomplete command or function (just like Linux :) )\n",
    "    - example: type **pri** then hit **Tab** to autocomplete **print**\n",
    "- Shift + Tab: inside function paratheses to check its parameters & documentation\n",
    "    - place the cursor between the function parantheses then hit **Shift + Tab**\n",
    "- Double Shift + Tab: inside function paratheses to check full documentation\n",
    "- CTRL + / : to comment (or uncomment) highlighted code"
   ]
  },
  {
   "cell_type": "markdown",
   "metadata": {},
   "source": [
    "## Installation\n",
    "1. Download & install __[Anaconda 3](https://www.anaconda.com/download/)__\n",
    "2. Download environment.yml\n",
    "3. Open **Anaconda Prompt** (from the start menu)\n",
    "4. Create environment: **conda env create -f environment.yml** (Make sure you provide environment.yml valid path in the previous command, and make sure you have internet access)\n",
    "\n",
    "## To open Jupyter Notebook\n",
    "1. Open **Anaconda Prompt**\n",
    "2. Type: **activate machine_learning**\n",
    "2. Type: **jupyter notebook**"
   ]
  },
  {
   "cell_type": "markdown",
   "metadata": {},
   "source": [
    "# PYTHON crash course"
   ]
  },
  {
   "cell_type": "markdown",
   "metadata": {},
   "source": [
    "- Interpreted, scripting language\n",
    "- general purpose language (web + mobile + Desktop GUI apps and games + Scientific & Numeric + security & hacking ... etc)\n",
    "- Friendly & Easy to Learn (ex: if 3 in list)\n",
    "- Open-source\n",
    "- cross-platform: runs everywhere\n",
    "- Very huge community"
   ]
  },
  {
   "cell_type": "markdown",
   "metadata": {},
   "source": [
    "### 1. Out first program: Hello world"
   ]
  },
  {
   "cell_type": "markdown",
   "metadata": {},
   "source": [
    "### 2. Initializing variables & Data types"
   ]
  },
  {
   "cell_type": "markdown",
   "metadata": {},
   "source": [
    "### 3. Lists"
   ]
  },
  {
   "cell_type": "markdown",
   "metadata": {},
   "source": [
    "### 4. For loops\n",
    "**Four Notes:**\n",
    "1. no braces\n",
    "2. colon at the end of the condition\n",
    "3. no need to put the condition inside parentheses\n",
    "4. for loop body should be indented (by spaces or tab)\n",
    "\n",
    "These notes are also applied for **while** and **if** statements"
   ]
  },
  {
   "cell_type": "markdown",
   "metadata": {},
   "source": [
    "### 5. if statements"
   ]
  },
  {
   "cell_type": "markdown",
   "metadata": {},
   "source": [
    "### 6. Strings"
   ]
  },
  {
   "cell_type": "markdown",
   "metadata": {},
   "source": [
    "### 7. dictionaries"
   ]
  },
  {
   "cell_type": "markdown",
   "metadata": {},
   "source": [
    "### 8. functions"
   ]
  },
  {
   "cell_type": "markdown",
   "metadata": {},
   "source": [
    "### Online Python Resources:\n",
    "- https://www.datacamp.com/courses/intro-to-python-for-data-science\n",
    "- https://www.youtube.com/playlist?list=PL123FD827C7984559\n",
    "- https://www.youtube.com/playlist?list=PLQVvvaa0QuDe8XSftW-RAxdo6OmaeL85M"
   ]
  }
 ],
 "metadata": {
  "kernelspec": {
   "display_name": "Python 3",
   "language": "python",
   "name": "python3"
  },
  "language_info": {
   "codemirror_mode": {
    "name": "ipython",
    "version": 3
   },
   "file_extension": ".py",
   "mimetype": "text/x-python",
   "name": "python",
   "nbconvert_exporter": "python",
   "pygments_lexer": "ipython3",
   "version": "3.6.3"
  }
 },
 "nbformat": 4,
 "nbformat_minor": 2
}
